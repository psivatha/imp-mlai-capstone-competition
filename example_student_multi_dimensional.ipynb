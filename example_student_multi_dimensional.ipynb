{
 "cells": [
  {
   "cell_type": "code",
   "metadata": {
    "ExecuteTime": {
     "end_time": "2024-07-26T21:17:03.145998Z",
     "start_time": "2024-07-26T21:17:03.142117Z"
    }
   },
   "source": [
    "import itertools as it\n",
    "import warnings\n",
    "\n",
    "import numpy as np\n",
    "from sklearn.gaussian_process import GaussianProcessRegressor\n",
    "from sklearn.gaussian_process.kernels import RBF\n",
    "\n",
    "warnings.filterwarnings(\"ignore\")\n",
    "import pandas as pd"
   ],
   "outputs": [],
   "execution_count": 2
  },
  {
   "cell_type": "code",
   "metadata": {
    "ExecuteTime": {
     "end_time": "2024-07-26T21:17:04.188891Z",
     "start_time": "2024-07-26T21:17:04.159409Z"
    }
   },
   "source": [
    "Xs = []\n",
    "Ys = []\n",
    "spaces = []\n",
    "for i in range(1, 9):\n",
    "    Xs.append(np.load(f\"initial_data/function_{i}/initial_inputs.npy\"))\n",
    "    Y = np.load(f\"initial_data/function_{i}/initial_outputs.npy\")\n",
    "    if i == 2:\n",
    "        Y = np.where(Y <= 0, 1e-10, Y)\n",
    "        Y = np.log(Y)\n",
    "    Ys.append(Y)\n",
    "\n",
    "# Read the feedback data and stack it with the input data\n",
    "df = pd.read_csv('feedback_data/605_data.csv')\n",
    "df = df.drop(columns=['Unnamed: 0', 'timestamp', 'student_id'], axis=1)\n",
    "for index, col in enumerate(df.columns):\n",
    "    if 'output' in col:\n",
    "        y_array = np.array(df[col], dtype=float)\n",
    "        Ys[index-8] = np.hstack((y_array, Ys[index-8]))\n",
    "        continue\n",
    "    series = []\n",
    "    for i in range(len(df[col])):\n",
    "        series.append(df[col][i].replace(\"[\", \"\").replace(\"]\", \"\").split())\n",
    "    series_array = np.array(series, dtype=float)\n",
    "    Xs[index] = np.vstack((series_array, Xs[index]))\n",
    "    \n"
   ],
   "outputs": [],
   "execution_count": 3
  },
  {
   "cell_type": "code",
   "metadata": {
    "is_executing": true,
    "jupyter": {
     "is_executing": true
    },
    "ExecuteTime": {
     "start_time": "2024-07-26T21:17:05.318090Z"
    }
   },
   "source": [
    "# Carry out a UCB based predictions for all the functions\n",
    "dims = [2, 2, 3, 4, 4, 5, 6, 8]\n",
    "kernel = 1.0 * RBF(1.0)\n",
    "for i, dim in enumerate(dims):\n",
    "    alpha = 1e-10\n",
    "    if i == 1:\n",
    "        # Since the description for function states that the observations are noisy\n",
    "        # TODO: is the alpha value correct ????\n",
    "        alpha = 0.1**2\n",
    "    gpr = GaussianProcessRegressor(kernel=kernel, alpha=alpha)\n",
    "    gpr.fit(Xs[i], Ys[i])\n",
    "    x1 = np.linspace(0.0, 1, 15)\n",
    "    X_grid = np.fromiter(it.chain(*it.product(x1, repeat=dim)), dtype=float).reshape(-1,dim)\n",
    "    # print(X_grid)\n",
    "    mean, std = gpr.predict(X_grid, return_std = True)\n",
    "    # print(mean)\n",
    "    ucb = mean + 1.96 * std\n",
    "    idx_max = np.argmax(ucb)\n",
    "    next_query = X_grid[idx_max]\n",
    "    next_qery_string = \"-\".join([f\"{x:.6f}\" for x in next_query])\n",
    "    print(f\"The next query for the function {i+1} is {next_qery_string}\")\n",
    "    "
   ],
   "outputs": [
    {
     "name": "stdout",
     "output_type": "stream",
     "text": [
      "The next query for the function 1 is 0.642857-0.642857\n",
      "The next query for the function 2 is 0.000000-0.000000\n",
      "The next query for the function 3 is 1.000000-0.000000-0.000000\n",
      "The next query for the function 4 is 0.000000-0.000000-0.000000-0.071429\n",
      "The next query for the function 5 is 1.000000-1.000000-1.000000-1.000000\n",
      "The next query for the function 6 is 0.000000-0.000000-0.000000-0.000000-0.071429\n",
      "The next query for the function 7 is 0.000000-0.000000-0.000000-0.000000-0.000000-0.000000\n"
     ]
    }
   ],
   "execution_count": null
  },
  {
   "cell_type": "code",
   "execution_count": 81,
   "metadata": {
    "ExecuteTime": {
     "end_time": "2024-05-09T20:44:21.476981Z",
     "start_time": "2024-05-09T20:44:21.474306Z"
    }
   },
   "outputs": [],
   "source": []
  },
  {
   "cell_type": "code",
   "outputs": [],
   "source": [],
   "metadata": {
    "collapsed": false
   },
   "execution_count": null
  }
 ],
 "metadata": {
  "interpreter": {
   "hash": "d37abda7630e259e5026a5079657683a09f6e3d11473720762ebe7250c494840"
  },
  "kernelspec": {
   "display_name": "Python 3 (ipykernel)",
   "language": "python",
   "name": "python3"
  },
  "language_info": {
   "codemirror_mode": {
    "name": "ipython",
    "version": 3
   },
   "file_extension": ".py",
   "mimetype": "text/x-python",
   "name": "python",
   "nbconvert_exporter": "python",
   "pygments_lexer": "ipython3",
   "version": "3.8.5"
  }
 },
 "nbformat": 4,
 "nbformat_minor": 2
}
