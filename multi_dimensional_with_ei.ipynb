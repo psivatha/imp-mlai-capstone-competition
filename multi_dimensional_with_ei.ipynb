{
 "cells": [
  {
   "cell_type": "code",
   "metadata": {
    "ExecuteTime": {
     "end_time": "2024-07-25T19:42:10.144722Z",
     "start_time": "2024-07-25T19:42:08.838183Z"
    }
   },
   "source": [
    "import warnings\n",
    "\n",
    "import numpy as np\n",
    "from scipy.optimize import minimize\n",
    "from scipy.stats import norm\n",
    "from sklearn.gaussian_process import GaussianProcessRegressor\n",
    "from sklearn.gaussian_process.kernels import ConstantKernel as C\n",
    "\n",
    "warnings.filterwarnings(\"ignore\")\n",
    "from sklearn.gaussian_process.kernels import RBF\n",
    "import pandas as pd"
   ],
   "outputs": [],
   "execution_count": 1
  },
  {
   "cell_type": "code",
   "metadata": {
    "ExecuteTime": {
     "end_time": "2024-07-25T19:42:10.172121Z",
     "start_time": "2024-07-25T19:42:10.147419Z"
    }
   },
   "source": [
    "Xs = []\n",
    "Ys = []\n",
    "for i in range(1, 9):\n",
    "    Xs.append(np.load(f\"initial_data/function_{i}/initial_inputs.npy\"))\n",
    "    Y = np.load(f\"initial_data/function_{i}/initial_outputs.npy\")\n",
    "    if i == 4:\n",
    "        Y = np.abs(Y)\n",
    "    Ys.append(Y)\n",
    "\n",
    "for i in range(1, 9):\n",
    "    Xs.append(np.load(f\"initial_data2/function_{i}/initial_inputs.npy\"))\n",
    "    Y = np.load(f\"initial_data2/function_{i}/initial_outputs.npy\")\n",
    "    if i == 4:\n",
    "        Y = np.abs(Y)\n",
    "    Ys.append(Y)\n",
    "\n",
    "df = pd.read_csv('feedback_data/605_data.csv')\n",
    "df = df.drop(columns=['Unnamed: 0', 'timestamp', 'student_id'], axis=1)\n",
    "\n",
    "for index, col in enumerate(df.columns):\n",
    "    if 'output' in col:\n",
    "        y_array = np.array(df[col], dtype=float)\n",
    "        Ys[index-8] = np.hstack((y_array, Ys[index-8]))\n",
    "        continue\n",
    "    series = []\n",
    "    for i in range(len(df[col])):\n",
    "        series.append(df[col][i].replace(\"[\", \"\").replace(\"]\", \"\").split())\n",
    "    series_array = np.array(series, dtype=float)\n",
    "    Xs[index] = np.vstack((series_array, Xs[index]))"
   ],
   "outputs": [],
   "execution_count": 2
  },
  {
   "cell_type": "code",
   "source": [],
   "metadata": {
    "collapsed": false,
    "ExecuteTime": {
     "end_time": "2024-07-25T19:42:10.175071Z",
     "start_time": "2024-07-25T19:42:10.173315Z"
    }
   },
   "outputs": [],
   "execution_count": 2
  },
  {
   "cell_type": "code",
   "source": [
    "def expected_improvement(X, X_sample, Y_sample, gpr, xi=0.01):\n",
    "    X = np.atleast_2d(X)\n",
    "    mu, sigma = gpr.predict(X, return_std=True)\n",
    "    mu_sample = gpr.predict(X_sample)\n",
    "\n",
    "    sigma = sigma.reshape(-1, 1)    # Make variance a column vector\n",
    "\n",
    "    # Needed for noise-based models, otherwise I could have used np.max(Y_sample).\n",
    "    mu_sample_opt = np.max(mu_sample)\n",
    "\n",
    "    # Handle divide by zero with a warning\n",
    "    with np.errstate(divide='warn'):\n",
    "        imp = mu - mu_sample_opt - xi\n",
    "        Z = imp / sigma\n",
    "        ei = imp * norm.cdf(Z) + sigma * norm.pdf(Z)\n",
    "        ei[sigma == 0.0] = 0.0\n",
    "\n",
    "    return ei\n",
    "\n",
    "# Propose the next sampling point by optimizing the acquisition function\n",
    "def propose_location(acquisition, X_sample, Y_sample, gpr, bounds, n_restarts=25):\n",
    "    dim = X_sample.shape[1]\n",
    "    min_val = 1\n",
    "    min_x = None\n",
    "\n",
    "    def min_obj(X):\n",
    "        return -acquisition(X.reshape(1, -1), X_sample, Y_sample, gpr)\n",
    "\n",
    "    for x0 in np.random.uniform(bounds[:, 0], bounds[:, 1], size=(n_restarts, dim)):\n",
    "        res = minimize(min_obj, x0=x0, bounds=bounds, method='L-BFGS-B') # Limited memory Broyden–Fletcher–Goldfarb–Shanno algorithm\n",
    "        if res.fun < min_val:\n",
    "            min_val = res.fun\n",
    "            min_x = res.x\n",
    "\n",
    "    return min_x\n"
   ],
   "metadata": {
    "collapsed": false,
    "ExecuteTime": {
     "end_time": "2024-07-25T19:42:10.181741Z",
     "start_time": "2024-07-25T19:42:10.176326Z"
    }
   },
   "outputs": [],
   "execution_count": 3
  },
  {
   "cell_type": "code",
   "source": [
    "print(\"EXPECTED IMPROVEMENT\")\n",
    "dims = [2, 2,  3, 4, 4, 5, 6, 8]\n",
    "kernel = 1.0 * RBF(1.0)\n",
    "for i, dim in enumerate(dims):\n",
    "    bounds = np.array([[0, 1]] * dim)\n",
    "    kernel = C(1.0, (1e-4, 1e1)) * RBF(1.0, (1e-4, 1e1))\n",
    "    gp = GaussianProcessRegressor(kernel=kernel, n_restarts_optimizer=10)\n",
    "    gp.fit(Xs[i], Ys[i])\n",
    "    next_point = propose_location(expected_improvement, Xs[i], Ys[i], gp, bounds)\n",
    "    next_query_string = \"-\".join([f\"{x:.6f}\" for x in next_point])\n",
    "    print(f\"The next query for the function {i+1} is {next_query_string}\")"
   ],
   "metadata": {
    "collapsed": false,
    "ExecuteTime": {
     "end_time": "2024-07-25T19:42:13.332380Z",
     "start_time": "2024-07-25T19:42:10.184106Z"
    }
   },
   "outputs": [
    {
     "name": "stdout",
     "output_type": "stream",
     "text": [
      "EXPECTED IMPROVEMENT\n",
      "The next query for the function 1 is 0.452288-0.097389\n",
      "The next query for the function 2 is 0.517129-0.902516\n",
      "The next query for the function 3 is 0.000000-1.000000-0.000000\n",
      "The next query for the function 4 is 0.328421-0.463792-0.486780-0.022579\n",
      "The next query for the function 5 is 0.700718-0.307323-0.334003-0.810409\n",
      "The next query for the function 6 is 0.322763-0.294062-0.040975-0.859567-0.776464\n",
      "The next query for the function 7 is 0.137594-0.234672-0.411572-0.273354-0.311853-0.582084\n",
      "The next query for the function 8 is 0.266038-0.381864-0.132140-0.636026-0.150824-0.781083-0.174686-0.404707\n"
     ]
    }
   ],
   "execution_count": 4
  },
  {
   "cell_type": "code",
   "outputs": [],
   "source": [],
   "metadata": {
    "collapsed": false
   },
   "execution_count": null
  }
 ],
 "metadata": {
  "interpreter": {
   "hash": "d37abda7630e259e5026a5079657683a09f6e3d11473720762ebe7250c494840"
  },
  "kernelspec": {
   "display_name": "Python 3 (ipykernel)",
   "language": "python",
   "name": "python3"
  },
  "language_info": {
   "codemirror_mode": {
    "name": "ipython",
    "version": 3
   },
   "file_extension": ".py",
   "mimetype": "text/x-python",
   "name": "python",
   "nbconvert_exporter": "python",
   "pygments_lexer": "ipython3",
   "version": "3.8.5"
  }
 },
 "nbformat": 4,
 "nbformat_minor": 2
}
