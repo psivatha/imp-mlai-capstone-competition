{
 "cells": [
  {
   "cell_type": "code",
   "id": "initial_id",
   "metadata": {
    "collapsed": true,
    "ExecuteTime": {
     "end_time": "2024-07-26T21:15:56.357532Z",
     "start_time": "2024-07-26T21:15:50.479942Z"
    }
   },
   "source": [
    "import numpy as np\n",
    "import pandas as pd\n",
    "from hebo.design_space.design_space import DesignSpace\n",
    "from hebo.optimizers.hebo import HEBO"
   ],
   "outputs": [],
   "execution_count": 1
  },
  {
   "metadata": {
    "ExecuteTime": {
     "end_time": "2024-07-26T21:16:21.594258Z",
     "start_time": "2024-07-26T21:16:03.265099Z"
    }
   },
   "cell_type": "code",
   "source": [
    "dimensions = [2, 2, 3, 4, 4, 5, 6, 8]\n",
    "\n",
    "Xs = []\n",
    "Ys = []\n",
    "# Read the first set of inputs\n",
    "for i, dim in enumerate(dimensions, start=1):\n",
    "    Xs.append(np.load(f\"initial_data/function_{i}/initial_inputs.npy\"))\n",
    "    Y = np.load(f\"initial_data/function_{i}/initial_outputs.npy\")\n",
    "    if i == 4:\n",
    "        Y = np.abs(Y)\n",
    "    Ys.append(Y)\n",
    "\n",
    "# Append the second set\n",
    "for i, dim in enumerate(dimensions, start=1):\n",
    "    Xs.append(np.load(f\"initial_data2/function_{i}/initial_inputs.npy\"))\n",
    "    Y = np.load(f\"initial_data2/function_{i}/initial_outputs.npy\")\n",
    "    if i == 4:\n",
    "        Y = np.abs(Y)\n",
    "    Ys.append(Y)\n",
    "\n",
    "# Stack the observations\n",
    "df = pd.read_csv('feedback_data/605_data.csv')\n",
    "df = df.drop(columns=['Unnamed: 0', 'timestamp', 'student_id'], axis=1)\n",
    "\n",
    "for index, col in enumerate(df.columns):\n",
    "    if 'output' in col:\n",
    "        y1 = np.log(df[col]) if col == 'f2_output' else df[col]\n",
    "        y_array = np.array(y1, dtype=float)\n",
    "        Ys[index - 8] = np.hstack((y_array, Ys[index - 8]))\n",
    "        continue\n",
    "    series = []\n",
    "    for i in range(len(df[col])):\n",
    "        series.append(df[col][i].replace(\"[\", \"\").replace(\"]\", \"\").split())\n",
    "    series_array = np.array(series, dtype=float)\n",
    "    Xs[index] = np.vstack((series_array, Xs[index]))\n",
    "\n",
    "# Use `observe` and `suggest` from HEBO. See  https://github.com/huawei-noah/HEBO/tree/master/HEBO\n",
    "def run_optimizer(dim, X, Y):\n",
    "    space = DesignSpace().parse([{'name': f'x{i+1}', 'type': 'num', 'lb': 0, 'ub': 1} for i in range(dim)])\n",
    "    opt = HEBO(space)\n",
    "    initial_data = pd.DataFrame(X, columns=[f'x{i+1}' for i in range(dim)])\n",
    "    initial_data['y'] = Y\n",
    "    opt.observe(initial_data, Y)\n",
    "\n",
    "    rec = opt.suggest(n_suggestions=1)\n",
    "\n",
    "    print('-'.join([f'{value:.6f}' for value in rec.iloc[0].values]))\n",
    "\n",
    "for i, dim in enumerate(dimensions):\n",
    "    run_optimizer(dim, Xs[i], Ys[i])"
   ],
   "id": "aae084a0daa2b618",
   "outputs": [
    {
     "name": "stdout",
     "output_type": "stream",
     "text": [
      "0.999048-0.997971\n",
      "0.067282-0.944421\n",
      "0.475366-0.997094-0.999636\n",
      "0.873948-0.890700-0.780007-0.532901\n",
      "0.266195-0.755522-0.039836-0.001264\n",
      "0.000167-0.687637-0.014225-0.000070-0.974107\n",
      "0.984071-0.002540-0.074480-0.996013-0.442492-0.002424\n",
      "0.996463-0.818706-0.974459-0.650443-0.729112-0.631887-0.949804-0.221673\n"
     ]
    }
   ],
   "execution_count": 2
  },
  {
   "metadata": {},
   "cell_type": "code",
   "outputs": [],
   "execution_count": null,
   "source": "",
   "id": "b68b07b205e64127"
  }
 ],
 "metadata": {
  "kernelspec": {
   "display_name": "Python 3",
   "language": "python",
   "name": "python3"
  },
  "language_info": {
   "codemirror_mode": {
    "name": "ipython",
    "version": 2
   },
   "file_extension": ".py",
   "mimetype": "text/x-python",
   "name": "python",
   "nbconvert_exporter": "python",
   "pygments_lexer": "ipython2",
   "version": "2.7.6"
  }
 },
 "nbformat": 4,
 "nbformat_minor": 5
}
